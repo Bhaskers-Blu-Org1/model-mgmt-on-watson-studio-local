{
 "cells": [
  {
   "cell_type": "code",
   "execution_count": 94,
   "metadata": {
    "collapsed": false,
    "deletable": true,
    "editable": true
   },
   "outputs": [],
   "source": [
    "import os\n",
    "import pandas as pd\n",
    "import numpy as np\n",
    "import xgboost\n",
    "\n",
    "train=pd.read_csv(os.environ['DSX_PROJECT_DIR']+'/datasets/train_features.csv',index_col=0)\n",
    "test=pd.read_csv(os.environ['DSX_PROJECT_DIR']+'/datasets/test_features.csv',index_col=0)"
   ]
  },
  {
   "cell_type": "code",
   "execution_count": 95,
   "metadata": {
    "collapsed": false,
    "deletable": true,
    "editable": true
   },
   "outputs": [
    {
     "data": {
      "text/html": [
       "<div>\n",
       "<style scoped>\n",
       "    .dataframe tbody tr th:only-of-type {\n",
       "        vertical-align: middle;\n",
       "    }\n",
       "\n",
       "    .dataframe tbody tr th {\n",
       "        vertical-align: top;\n",
       "    }\n",
       "\n",
       "    .dataframe thead th {\n",
       "        text-align: right;\n",
       "    }\n",
       "</style>\n",
       "<table border=\"1\" class=\"dataframe\">\n",
       "  <thead>\n",
       "    <tr style=\"text-align: right;\">\n",
       "      <th></th>\n",
       "      <th>id</th>\n",
       "      <th>spacegroup</th>\n",
       "      <th>number_of_total_atoms</th>\n",
       "      <th>percent_atom_al</th>\n",
       "      <th>percent_atom_ga</th>\n",
       "      <th>percent_atom_in</th>\n",
       "      <th>lattice_vector_1_ang</th>\n",
       "      <th>lattice_vector_2_ang</th>\n",
       "      <th>lattice_vector_3_ang</th>\n",
       "      <th>lattice_angle_alpha_degree</th>\n",
       "      <th>lattice_angle_beta_degree</th>\n",
       "      <th>lattice_angle_gamma_degree</th>\n",
       "      <th>formation_energy_ev_natom</th>\n",
       "      <th>bandgap_energy_ev</th>\n",
       "      <th>bandgap_energy_ev_mean</th>\n",
       "      <th>formation_energy_ev_natom_mean</th>\n",
       "    </tr>\n",
       "  </thead>\n",
       "  <tbody>\n",
       "    <tr>\n",
       "      <th>0</th>\n",
       "      <td>1</td>\n",
       "      <td>33</td>\n",
       "      <td>80.0</td>\n",
       "      <td>0.6250</td>\n",
       "      <td>0.3750</td>\n",
       "      <td>0.0</td>\n",
       "      <td>9.9523</td>\n",
       "      <td>8.5513</td>\n",
       "      <td>9.1775</td>\n",
       "      <td>90.0026</td>\n",
       "      <td>90.0023</td>\n",
       "      <td>90.0017</td>\n",
       "      <td>0.0680</td>\n",
       "      <td>3.4387</td>\n",
       "      <td>0.787009</td>\n",
       "      <td>0.787009</td>\n",
       "    </tr>\n",
       "    <tr>\n",
       "      <th>1</th>\n",
       "      <td>2</td>\n",
       "      <td>194</td>\n",
       "      <td>80.0</td>\n",
       "      <td>0.6250</td>\n",
       "      <td>0.3750</td>\n",
       "      <td>0.0</td>\n",
       "      <td>6.1840</td>\n",
       "      <td>6.1838</td>\n",
       "      <td>23.6287</td>\n",
       "      <td>90.0186</td>\n",
       "      <td>89.9980</td>\n",
       "      <td>120.0025</td>\n",
       "      <td>0.2490</td>\n",
       "      <td>2.9210</td>\n",
       "      <td>0.565737</td>\n",
       "      <td>0.565737</td>\n",
       "    </tr>\n",
       "    <tr>\n",
       "      <th>2</th>\n",
       "      <td>3</td>\n",
       "      <td>227</td>\n",
       "      <td>40.0</td>\n",
       "      <td>0.8125</td>\n",
       "      <td>0.1875</td>\n",
       "      <td>0.0</td>\n",
       "      <td>9.7510</td>\n",
       "      <td>5.6595</td>\n",
       "      <td>13.9630</td>\n",
       "      <td>90.9688</td>\n",
       "      <td>91.1228</td>\n",
       "      <td>30.5185</td>\n",
       "      <td>0.1821</td>\n",
       "      <td>2.7438</td>\n",
       "      <td>0.389779</td>\n",
       "      <td>0.389779</td>\n",
       "    </tr>\n",
       "  </tbody>\n",
       "</table>\n",
       "</div>"
      ],
      "text/plain": [
       "   id  spacegroup  number_of_total_atoms  percent_atom_al  percent_atom_ga  \\\n",
       "0   1          33                   80.0           0.6250           0.3750   \n",
       "1   2         194                   80.0           0.6250           0.3750   \n",
       "2   3         227                   40.0           0.8125           0.1875   \n",
       "\n",
       "   percent_atom_in  lattice_vector_1_ang  lattice_vector_2_ang  \\\n",
       "0              0.0                9.9523                8.5513   \n",
       "1              0.0                6.1840                6.1838   \n",
       "2              0.0                9.7510                5.6595   \n",
       "\n",
       "   lattice_vector_3_ang  lattice_angle_alpha_degree  \\\n",
       "0                9.1775                     90.0026   \n",
       "1               23.6287                     90.0186   \n",
       "2               13.9630                     90.9688   \n",
       "\n",
       "   lattice_angle_beta_degree  lattice_angle_gamma_degree  \\\n",
       "0                    90.0023                     90.0017   \n",
       "1                    89.9980                    120.0025   \n",
       "2                    91.1228                     30.5185   \n",
       "\n",
       "   formation_energy_ev_natom  bandgap_energy_ev  bandgap_energy_ev_mean  \\\n",
       "0                     0.0680             3.4387                0.787009   \n",
       "1                     0.2490             2.9210                0.565737   \n",
       "2                     0.1821             2.7438                0.389779   \n",
       "\n",
       "   formation_energy_ev_natom_mean  \n",
       "0                        0.787009  \n",
       "1                        0.565737  \n",
       "2                        0.389779  "
      ]
     },
     "execution_count": 95,
     "metadata": {},
     "output_type": "execute_result"
    }
   ],
   "source": [
    "train[0:3]"
   ]
  },
  {
   "cell_type": "code",
   "execution_count": 96,
   "metadata": {
    "collapsed": false,
    "deletable": true,
    "editable": true
   },
   "outputs": [
    {
     "data": {
      "text/html": [
       "<div>\n",
       "<style scoped>\n",
       "    .dataframe tbody tr th:only-of-type {\n",
       "        vertical-align: middle;\n",
       "    }\n",
       "\n",
       "    .dataframe tbody tr th {\n",
       "        vertical-align: top;\n",
       "    }\n",
       "\n",
       "    .dataframe thead th {\n",
       "        text-align: right;\n",
       "    }\n",
       "</style>\n",
       "<table border=\"1\" class=\"dataframe\">\n",
       "  <thead>\n",
       "    <tr style=\"text-align: right;\">\n",
       "      <th></th>\n",
       "      <th>id</th>\n",
       "      <th>spacegroup</th>\n",
       "      <th>number_of_total_atoms</th>\n",
       "      <th>percent_atom_al</th>\n",
       "      <th>percent_atom_ga</th>\n",
       "      <th>percent_atom_in</th>\n",
       "      <th>lattice_vector_1_ang</th>\n",
       "      <th>lattice_vector_2_ang</th>\n",
       "      <th>lattice_vector_3_ang</th>\n",
       "      <th>lattice_angle_alpha_degree</th>\n",
       "      <th>lattice_angle_beta_degree</th>\n",
       "      <th>lattice_angle_gamma_degree</th>\n",
       "      <th>bandgap_energy_ev_mean</th>\n",
       "      <th>formation_energy_ev_natom_mean</th>\n",
       "    </tr>\n",
       "  </thead>\n",
       "  <tbody>\n",
       "    <tr>\n",
       "      <th>0</th>\n",
       "      <td>1</td>\n",
       "      <td>33</td>\n",
       "      <td>80.0</td>\n",
       "      <td>0.1875</td>\n",
       "      <td>0.4688</td>\n",
       "      <td>0.3438</td>\n",
       "      <td>10.5381</td>\n",
       "      <td>9.0141</td>\n",
       "      <td>9.6361</td>\n",
       "      <td>89.9997</td>\n",
       "      <td>90.0003</td>\n",
       "      <td>90.0006</td>\n",
       "      <td>0.787009</td>\n",
       "      <td>0.787009</td>\n",
       "    </tr>\n",
       "    <tr>\n",
       "      <th>1</th>\n",
       "      <td>2</td>\n",
       "      <td>33</td>\n",
       "      <td>80.0</td>\n",
       "      <td>0.7500</td>\n",
       "      <td>0.2500</td>\n",
       "      <td>0.0000</td>\n",
       "      <td>9.8938</td>\n",
       "      <td>8.5014</td>\n",
       "      <td>9.1298</td>\n",
       "      <td>90.0038</td>\n",
       "      <td>90.0023</td>\n",
       "      <td>90.0015</td>\n",
       "      <td>0.787009</td>\n",
       "      <td>0.787009</td>\n",
       "    </tr>\n",
       "    <tr>\n",
       "      <th>2</th>\n",
       "      <td>3</td>\n",
       "      <td>167</td>\n",
       "      <td>30.0</td>\n",
       "      <td>0.6667</td>\n",
       "      <td>0.1667</td>\n",
       "      <td>0.1667</td>\n",
       "      <td>4.9811</td>\n",
       "      <td>4.9808</td>\n",
       "      <td>13.4799</td>\n",
       "      <td>89.9900</td>\n",
       "      <td>90.0109</td>\n",
       "      <td>120.0014</td>\n",
       "      <td>1.063387</td>\n",
       "      <td>1.063387</td>\n",
       "    </tr>\n",
       "  </tbody>\n",
       "</table>\n",
       "</div>"
      ],
      "text/plain": [
       "   id  spacegroup  number_of_total_atoms  percent_atom_al  percent_atom_ga  \\\n",
       "0   1          33                   80.0           0.1875           0.4688   \n",
       "1   2          33                   80.0           0.7500           0.2500   \n",
       "2   3         167                   30.0           0.6667           0.1667   \n",
       "\n",
       "   percent_atom_in  lattice_vector_1_ang  lattice_vector_2_ang  \\\n",
       "0           0.3438               10.5381                9.0141   \n",
       "1           0.0000                9.8938                8.5014   \n",
       "2           0.1667                4.9811                4.9808   \n",
       "\n",
       "   lattice_vector_3_ang  lattice_angle_alpha_degree  \\\n",
       "0                9.6361                     89.9997   \n",
       "1                9.1298                     90.0038   \n",
       "2               13.4799                     89.9900   \n",
       "\n",
       "   lattice_angle_beta_degree  lattice_angle_gamma_degree  \\\n",
       "0                    90.0003                     90.0006   \n",
       "1                    90.0023                     90.0015   \n",
       "2                    90.0109                    120.0014   \n",
       "\n",
       "   bandgap_energy_ev_mean  formation_energy_ev_natom_mean  \n",
       "0                0.787009                        0.787009  \n",
       "1                0.787009                        0.787009  \n",
       "2                1.063387                        1.063387  "
      ]
     },
     "execution_count": 96,
     "metadata": {},
     "output_type": "execute_result"
    }
   ],
   "source": [
    "test[0:3]"
   ]
  },
  {
   "cell_type": "code",
   "execution_count": 97,
   "metadata": {
    "collapsed": true,
    "deletable": true,
    "editable": true
   },
   "outputs": [],
   "source": [
    "ignore_cols=['id','formation_energy_ev_natom','bandgap_energy_ev']\n",
    "\n",
    "predictors=[x for x in train.columns if x not in ignore_cols]"
   ]
  },
  {
   "cell_type": "code",
   "execution_count": 98,
   "metadata": {
    "collapsed": true,
    "deletable": true,
    "editable": true
   },
   "outputs": [],
   "source": [
    "def rmsle(h, y): \n",
    "    \"\"\"\n",
    "    Compute the Root Mean Squared Log Error for hypthesis h and targets y\n",
    "\n",
    "    Args:\n",
    "        h - numpy array containing predictions with shape (n_samples, n_targets)\n",
    "        y - numpy array containing targets with shape (n_samples, n_targets)\n",
    "    \"\"\"\n",
    "    return np.sqrt(np.square(np.log(h + 1) - np.log(y + 1)).mean())\n"
   ]
  },
  {
   "cell_type": "code",
   "execution_count": 99,
   "metadata": {
    "collapsed": true,
    "deletable": true,
    "editable": true
   },
   "outputs": [],
   "source": [
    "from sklearn.model_selection import KFold\n",
    "from xgboost import XGBRegressor\n",
    "from sklearn.decomposition import PCA\n",
    "\n",
    "\n",
    "# vector = np.vstack((train[['lattice_vector_1_ang', 'lattice_vector_2_ang','lattice_vector_3_ang']].values,\n",
    "#                     test[['lattice_vector_1_ang', 'lattice_vector_2_ang','lattice_vector_3_ang']].values))\n",
    "\n",
    "# pca = PCA().fit(vector)\n",
    "# train['vector_pca0'] = pca.transform(train[['lattice_vector_1_ang', 'lattice_vector_2_ang','lattice_vector_3_ang']])[:, 0]\n",
    "# test['vector_pca0'] = pca.transform(test[['lattice_vector_1_ang', 'lattice_vector_2_ang','lattice_vector_3_ang']])[:, 0]\n",
    "\n",
    "# predictors.append('vector_pca0')\n",
    "\n",
    "\n",
    "\n",
    "Y_feen = np.log(train['formation_energy_ev_natom']+1)\n",
    "Y_bee = np.log(train['bandgap_energy_ev']+1)\n",
    "\n",
    "\n",
    "X=train[predictors].as_matrix()\n",
    "test_mat=test[predictors].as_matrix()"
   ]
  },
  {
   "cell_type": "code",
   "execution_count": 100,
   "metadata": {
    "collapsed": true,
    "deletable": true,
    "editable": true
   },
   "outputs": [],
   "source": [
    "def train_models(X,Y,test,k_folds):\n",
    "\n",
    "    oof = np.empty(len(X))\n",
    "    sub_preds = np.zeros(len(test))\n",
    "\n",
    "    kf = KFold(n_splits=k_folds)\n",
    "    kf.get_n_splits(X)\n",
    "\n",
    "    for train_index, test_index in kf.split(X):\n",
    "        X_train, X_test = X[train_index], X[test_index]\n",
    "        y_train, y_test = Y[train_index], Y[test_index]\n",
    "\n",
    "        estimator = XGBRegressor( learning_rate=0.05, n_estimators=1000, max_depth=3,\\\n",
    "                                  min_child_weight=5, gamma=0, subsample=0.85, colsample_bytree=0.85,\\\n",
    "                                  objective= 'reg:linear', seed=30,)\n",
    "        estimator.fit(X_train,y_train,eval_set=[(X_train, y_train), (X_test, y_test)],\\\n",
    "                      eval_metric='rmse', verbose=False,early_stopping_rounds=20) \n",
    "\n",
    "        oof[test_index] = estimator.predict(X_test)\n",
    "\n",
    "\n",
    "        # Update submission\n",
    "        sub_preds += estimator.predict(test_mat) / k_folds\n",
    "    return oof, sub_preds"
   ]
  },
  {
   "cell_type": "code",
   "execution_count": 101,
   "metadata": {
    "collapsed": false,
    "deletable": true,
    "editable": true
   },
   "outputs": [
    {
     "data": {
      "text/plain": [
       "0.026458712632948578"
      ]
     },
     "execution_count": 101,
     "metadata": {},
     "output_type": "execute_result"
    }
   ],
   "source": [
    "oof_feen, sub_preds_feen = train_models(X,Y_feen,test_mat,k_folds=10)\n",
    "rmsle(oof_feen,Y_feen)"
   ]
  },
  {
   "cell_type": "code",
   "execution_count": 102,
   "metadata": {
    "collapsed": false,
    "deletable": true,
    "editable": true
   },
   "outputs": [
    {
     "data": {
      "text/plain": [
       "0.04998604012842432"
      ]
     },
     "execution_count": 102,
     "metadata": {},
     "output_type": "execute_result"
    }
   ],
   "source": [
    "oof_bee, sub_preds_bee = train_models(X,Y_bee,test_mat,k_folds=10)\n",
    "rmsle(Y_bee,oof_bee)"
   ]
  },
  {
   "cell_type": "code",
   "execution_count": 103,
   "metadata": {
    "collapsed": false,
    "deletable": true,
    "editable": true
   },
   "outputs": [
    {
     "data": {
      "text/plain": [
       "XGBRegressor(base_score=0.5, booster='gbtree', colsample_bylevel=1,\n",
       "       colsample_bytree=0.85, gamma=0, learning_rate=0.05,\n",
       "       max_delta_step=0, max_depth=3, min_child_weight=5, missing=None,\n",
       "       n_estimators=1000, n_jobs=1, nthread=None, objective='reg:linear',\n",
       "       random_state=0, reg_alpha=0, reg_lambda=1, scale_pos_weight=1,\n",
       "       seed=30, silent=True, subsample=0.85)"
      ]
     },
     "execution_count": 103,
     "metadata": {},
     "output_type": "execute_result"
    }
   ],
   "source": [
    "estimator = XGBRegressor( learning_rate=0.05, n_estimators=1000, max_depth=3,\\\n",
    "                          min_child_weight=5, gamma=0, subsample=0.85, colsample_bytree=0.85,\\\n",
    "                          objective= 'reg:linear', seed=30,)\n",
    "estimator.fit(X,Y_feen) "
   ]
  },
  {
   "cell_type": "code",
   "execution_count": 104,
   "metadata": {
    "collapsed": false,
    "deletable": true,
    "editable": true
   },
   "outputs": [],
   "source": [
    "x_test = pd.DataFrame(X)\n",
    "x_test.columns = ['f0','f1','f2','f3','f4','f5','f6','f7','f8','f9','f10','f11','f12']"
   ]
  },
  {
   "cell_type": "code",
   "execution_count": 105,
   "metadata": {
    "collapsed": false,
    "deletable": true,
    "editable": true
   },
   "outputs": [],
   "source": [
    "y_test=pd.DataFrame(Y_feen)"
   ]
  },
  {
   "cell_type": "code",
   "execution_count": 106,
   "metadata": {
    "collapsed": false,
    "deletable": true,
    "editable": true
   },
   "outputs": [
    {
     "data": {
      "text/plain": [
       "{'path': '/user-home/1002/DSX_Projects/Feature Engineering and Model Deployments - API and Batch/models/NomadXgboost/1',\n",
       " 'scoring_endpoint': 'https://dsxl-api/v3/project/score/Python27/scikit-learn-0.19/Feature%20Engineering%20and%20Model%20Deployments%20-%20API%20and%20Batch/NomadXgboost/1'}"
      ]
     },
     "execution_count": 106,
     "metadata": {},
     "output_type": "execute_result"
    }
   ],
   "source": [
    "from dsx_ml.ml import save\n",
    "save(name='NomadXgboost',model=estimator,algorithm_type='Regression',x_test=x_test,y_test=y_test)"
   ]
  }
 ],
 "metadata": {
  "kernelspec": {
   "display_name": "Python2.7",
   "language": "python",
   "name": "py2localspark"
  },
  "language_info": {
   "codemirror_mode": {
    "name": "ipython",
    "version": 2
   },
   "file_extension": ".py",
   "mimetype": "text/x-python",
   "name": "python",
   "nbconvert_exporter": "python",
   "pygments_lexer": "ipython2",
   "version": "2.7.13"
  }
 },
 "nbformat": 4,
 "nbformat_minor": 2
}
